{
  "nbformat": 4,
  "nbformat_minor": 0,
  "metadata": {
    "colab": {
      "name": "JohannVirus.ipynb",
      "provenance": [],
      "collapsed_sections": []
    },
    "kernelspec": {
      "name": "python3",
      "display_name": "Python 3"
    }
  },
  "cells": [
    {
      "cell_type": "markdown",
      "metadata": {
        "id": "9wUL_Fy5qUDI"
      },
      "source": [
        "# UTSA CS 3793/5233: Assignment-1\n",
        "\n",
        "**Tschetter - Johann - (pzt638)**\n",
        "\n",
        "\n",
        "\n",
        "\n"
      ]
    },
    {
      "cell_type": "markdown",
      "metadata": {
        "id": "NM8b9KVYsETT"
      },
      "source": [
        "## Learning Objectives\n",
        "\n",
        "\n",
        "*   Read data from a file and Create a graph\n",
        "*   Implement Uninformed & Informed searching strategies\n",
        "*   Apply different searching strategies for the given problem\n",
        "*   Analyze and Compare the searching strategies\n"
      ]
    },
    {
      "cell_type": "markdown",
      "metadata": {
        "id": "LzR4Ic34zJlT"
      },
      "source": [
        "## Description\n",
        "\n",
        "This assignment is focused on **python file reading, graph creation** and implementation of **search algorithms**. \n",
        "In the following sections, you will complete a series of tasks for a made up problem of *Coronavirus in Texas*.\n",
        "\n",
        "*   Coronavirus is non-discriminatory, in the sense that it can spread from one city to any other city. The only goal of the virus is to spread to all cities in Texas. Find a possible way for the virus to spread (Uninformed Search).\n",
        "*   To counter the effect of the virus, vaccine needs to be distributed to all cities. One city has more demand than supply, whereas one city has a shortage of vaccines. The goal is to find an **optimal** strategy to transport the vaccine (Informed Search) from the city with high supply (low demand) to the city with low supply (high demand).\n",
        "\n",
        "The base structure and comments are provided on what should be done. You can use some libraries that help support you for the successful completion of the assignment. However, you **CANNOT** use a complete library for the search algorithms. You can get pieces of code from online, but please cite the source properly.\n"
      ]
    },
    {
      "cell_type": "code",
      "source": [
        "from google.colab import drive\n",
        "drive.mount('/content/drive')"
      ],
      "metadata": {
        "colab": {
          "base_uri": "https://localhost:8080/"
        },
        "id": "OPdeCzf6HssV",
        "outputId": "75431195-ebbd-4c2e-a02b-0eb3ee1bdd07"
      },
      "execution_count": 157,
      "outputs": [
        {
          "output_type": "stream",
          "name": "stdout",
          "text": [
            "Drive already mounted at /content/drive; to attempt to forcibly remount, call drive.mount(\"/content/drive\", force_remount=True).\n"
          ]
        }
      ]
    },
    {
      "cell_type": "markdown",
      "metadata": {
        "id": "YeYRnesWqvLm"
      },
      "source": [
        "#Reading Data Files & Creating a 2D Graph\n",
        "\n",
        "##(45 points)\n",
        "\n",
        "In this section, you will write code to read the data files provided, cities.csv and distances.csv, and create a 2D graph consisting of nodes and edges. The goal is to use this graph for the 2 search agents that you will create in the next section.\n",
        "\n",
        "Provided with this lab, on Blackboard, you will find 2 csv files:\n",
        "\n",
        "*   **cities.csv** - This file contains a list of coordinates for selected cities in Texas, in the following format:\n",
        "```\n",
        "San Antonio,29.4685,-98.5254\n",
        "```\n",
        "The above line means that San Antonio is located at the latitude and longitude of 29.4685 N and 98.5254 W respectively. Note that the '-ve' sign denotes 'S' for latitude and 'W' for longitude. While performing calculations you will need to ignore the sign.\n",
        "\n",
        "*   **distances.csv** - This file contains distance values between two cities of Texas, if a path exists, in the following format:\n",
        "```\n",
        "San Antonio,New Braunfels,30.80876734\n",
        "```\n",
        "The above line denotes that there should be an edge between *San Antonio* and *New Braunfels* and the weight on that edge, i.e. the distance, is *30.80876734*.\n",
        "\n",
        "In the code blocks below, handle the logic for the graph. Load the graph data from the give files and display a 2D graph of the given data, with labeled nodes and edges. Create as many functions or code blocks as needed.\n",
        "\n",
        "##Extra Credit (4 points)\n",
        "\n",
        "Overlay the 2D graph on an image of the Texas state map.\n",
        "\n",
        "\n",
        "\n"
      ]
    },
    {
      "cell_type": "code",
      "metadata": {
        "id": "f9apbZGptej6",
        "colab": {
          "base_uri": "https://localhost:8080/"
        },
        "outputId": "5184df34-e4cf-47af-b0a8-b84503596aa2"
      },
      "source": [
        "# Add only your imports here\n",
        "!pip install git+git://github.com/geopandas/geopandas.git\n",
        "!pip install haversine\n",
        "import pandas as pd\n",
        "import numpy as np\n",
        "import matplotlib.pyplot as plt\n",
        "import geopandas as gp\n",
        "import geopy.distance\n",
        "from shapely.geometry import Polygon\n",
        "import heapq\n",
        "import io\n",
        "from haversine import haversine, Unit\n",
        "import networkx as nx\n",
        "import csv\n",
        "from queue import PriorityQueue"
      ],
      "execution_count": 166,
      "outputs": [
        {
          "output_type": "stream",
          "name": "stdout",
          "text": [
            "Collecting git+git://github.com/geopandas/geopandas.git\n",
            "  Cloning git://github.com/geopandas/geopandas.git to /tmp/pip-req-build-vs40ysce\n",
            "  Running command git clone -q git://github.com/geopandas/geopandas.git /tmp/pip-req-build-vs40ysce\n",
            "Requirement already satisfied: pandas>=0.25.0 in /usr/local/lib/python3.7/dist-packages (from geopandas==0.10.2+49.g8c78454) (1.3.5)\n",
            "Requirement already satisfied: shapely>=1.6 in /usr/local/lib/python3.7/dist-packages (from geopandas==0.10.2+49.g8c78454) (1.8.0)\n",
            "Requirement already satisfied: fiona>=1.8 in /usr/local/lib/python3.7/dist-packages (from geopandas==0.10.2+49.g8c78454) (1.8.21)\n",
            "Requirement already satisfied: pyproj>=2.2.0 in /usr/local/lib/python3.7/dist-packages (from geopandas==0.10.2+49.g8c78454) (3.2.1)\n",
            "Requirement already satisfied: packaging in /usr/local/lib/python3.7/dist-packages (from geopandas==0.10.2+49.g8c78454) (21.3)\n",
            "Requirement already satisfied: munch in /usr/local/lib/python3.7/dist-packages (from fiona>=1.8->geopandas==0.10.2+49.g8c78454) (2.5.0)\n",
            "Requirement already satisfied: click>=4.0 in /usr/local/lib/python3.7/dist-packages (from fiona>=1.8->geopandas==0.10.2+49.g8c78454) (7.1.2)\n",
            "Requirement already satisfied: certifi in /usr/local/lib/python3.7/dist-packages (from fiona>=1.8->geopandas==0.10.2+49.g8c78454) (2021.10.8)\n",
            "Requirement already satisfied: six>=1.7 in /usr/local/lib/python3.7/dist-packages (from fiona>=1.8->geopandas==0.10.2+49.g8c78454) (1.15.0)\n",
            "Requirement already satisfied: click-plugins>=1.0 in /usr/local/lib/python3.7/dist-packages (from fiona>=1.8->geopandas==0.10.2+49.g8c78454) (1.1.1)\n",
            "Requirement already satisfied: attrs>=17 in /usr/local/lib/python3.7/dist-packages (from fiona>=1.8->geopandas==0.10.2+49.g8c78454) (21.4.0)\n",
            "Requirement already satisfied: setuptools in /usr/local/lib/python3.7/dist-packages (from fiona>=1.8->geopandas==0.10.2+49.g8c78454) (57.4.0)\n",
            "Requirement already satisfied: cligj>=0.5 in /usr/local/lib/python3.7/dist-packages (from fiona>=1.8->geopandas==0.10.2+49.g8c78454) (0.7.2)\n",
            "Requirement already satisfied: numpy>=1.17.3 in /usr/local/lib/python3.7/dist-packages (from pandas>=0.25.0->geopandas==0.10.2+49.g8c78454) (1.21.5)\n",
            "Requirement already satisfied: pytz>=2017.3 in /usr/local/lib/python3.7/dist-packages (from pandas>=0.25.0->geopandas==0.10.2+49.g8c78454) (2018.9)\n",
            "Requirement already satisfied: python-dateutil>=2.7.3 in /usr/local/lib/python3.7/dist-packages (from pandas>=0.25.0->geopandas==0.10.2+49.g8c78454) (2.8.2)\n",
            "Requirement already satisfied: pyparsing!=3.0.5,>=2.0.2 in /usr/local/lib/python3.7/dist-packages (from packaging->geopandas==0.10.2+49.g8c78454) (3.0.7)\n",
            "Requirement already satisfied: haversine in /usr/local/lib/python3.7/dist-packages (2.5.1)\n"
          ]
        }
      ]
    },
    {
      "cell_type": "code",
      "metadata": {
        "id": "YdPwgSBOtb1P"
      },
      "source": [
        "# Assume that the data files are in the following folder -- THIS WILL BE USED BY THE TA\n",
        "basePath = \"/content/drive/My Drive/Colab Notebooks/Artificial Intelligence/Data/\"\n",
        "citiesPath = basePath + 'cities.csv' \n",
        "distancesPath = basePath + 'distances.csv'\n",
        "texasPath = basePath + 'texas-map.png'"
      ],
      "execution_count": 159,
      "outputs": []
    },
    {
      "cell_type": "code",
      "source": [
        "#Graph class\n",
        "class Graph:\n",
        "  def __init__(self):\n",
        "    self.all_nodes = {}\n",
        "    \n",
        "  def add_neighbor(self, node1, node2, weight):\n",
        "    # if node isn't in list then add it\n",
        "    if node1 not in self.all_nodes:\n",
        "      self.all_nodes[node1] = Node(node1)\n",
        "      \n",
        "    if node2 not in self.all_nodes:\n",
        "      self.all_nodes[node2] = Node(node2)\n",
        "      \n",
        "    # finding the node and adding a neighbor to it  \n",
        "    temp1 = self.all_nodes.get(node1)\n",
        "    temp1.add_edge(node2, weight)\n",
        "    \n",
        "    temp2 = self.all_nodes.get(node2)\n",
        "    temp2.add_edge(node1, weight)\n",
        "    \n",
        "  # Used for testing\n",
        "  def print_map(self):\n",
        "    for x in self.all_nodes:\n",
        "      print('Node:  ' + x)\n",
        "      print('~~~~~~~~~~~~~~~~~~~~')\n",
        "      print('Neighbors:')\n",
        "      tmp = self.all_nodes[x]\n",
        "      tmp.print_neighbors()\n",
        "      print('~~~~~~~~~~~~~~~~~~~~')"
      ],
      "metadata": {
        "id": "7qlue6UV-NUd"
      },
      "execution_count": 160,
      "outputs": []
    },
    {
      "cell_type": "code",
      "source": [
        "#Node Class\n",
        "class Node:\n",
        "  def __init__(self, name):\n",
        "    self.all_neighbors = {}\n",
        "    self.name = name\n",
        "    \n",
        "  def add_edge(self,neighbor, weight):\n",
        "    self.all_neighbors[neighbor] = weight\n",
        "    #print(\"Added edge from \"+ self.name +\" to \"+ neighbor + \" of length \" + str(self.all_neighbors[neighbor]))\n",
        "  \n",
        "  # Used for testing\n",
        "  def print_neighbors(self):\n",
        "    for x in self.all_neighbors:\n",
        "      print(x)"
      ],
      "metadata": {
        "id": "cK4-UWp4-PyY"
      },
      "execution_count": 161,
      "outputs": []
    },
    {
      "cell_type": "code",
      "metadata": {
        "id": "C9-Nvg_KUN4o",
        "colab": {
          "base_uri": "https://localhost:8080/",
          "height": 846
        },
        "outputId": "f0b8d2c5-b9ff-42a8-ed99-4b0f92457d09"
      },
      "source": [
        "# Load the graph data from the files\n",
        "plot = nx.Graph()\n",
        "map = Graph()\n",
        "plt.figure(figsize=(15,15))\n",
        "#texasMap = gp.read_file(texasPath)\n",
        "#texasMap.plot()\n",
        "\n",
        "#cityData contains nodes\n",
        "with open(citiesPath) as csvfile:\n",
        "  cityData = csv.reader(csvfile, delimiter=',')\n",
        "  for city in cityData:\n",
        "    plot.add_node(city[0], pos=(float(city[2]), float(city[1])))\n",
        "\n",
        "#distanceData contains edges\n",
        "with open(distancesPath) as csvfile:\n",
        "  distanceData = csv.reader(csvfile, delimiter=',')\n",
        "  for edge in distanceData:\n",
        "    plot.add_edge(edge[0], edge[1], weight=float(edge[2]))\n",
        "    map.add_neighbor(edge[0], edge[1], float(edge[2]))\n",
        "    #print(edge)\n",
        "\n",
        "\n",
        "#print(map.all_nodes['San Antonio'].all_neighbors)\n",
        "nodes = nx.get_node_attributes(plot, 'pos')\n",
        "edges = nx.get_edge_attributes(plot, 'weight')\n",
        "\n",
        "nx.draw_networkx(plot, nodes, with_labels = True)\n",
        "\n",
        "plt.axis('off')\n",
        "plt.show()"
      ],
      "execution_count": 162,
      "outputs": [
        {
          "output_type": "display_data",
          "data": {
            "image/png": "[encoded data removed]",
            "text/plain": [
              "<Figure size 1080x1080 with 1 Axes>"
            ]
          },
          "metadata": {}
        }
      ]
    },
    {
      "cell_type": "markdown",
      "metadata": {
        "id": "onnqJYTEq0l3"
      },
      "source": [
        "#Virus Spread - Uninformed Search Agent\n",
        "\n",
        "##(40 points)\n",
        "\n",
        "In this section, you will use the graph created in the previous section and create an *uninformed search* agent that will print the path how the virus will spread to all the provided Texas cities. The first confirmed case of the virus was in **Three Rivers** and starts spreading from there. The virus does not discriminate and it needs to spread to all the cities of Texas.\n",
        "\n",
        "In the following code block, write code to implement **any** uninformed search strategy. You are free to create more code blocks if needed. As the output, print\n",
        "\n",
        "*   The path or sequence of cities that will be infected by the spread of Coronavirus.\n",
        "*   The distance travelled by the selected virus spreading strategy.\n",
        "\n",
        "##Extra Credit (3 points)\n",
        "On the 2D graph and the Texas state map, overlay the selected path along with the cities visited."
      ]
    },
    {
      "cell_type": "code",
      "metadata": {
        "id": "XELGzRDftS77",
        "colab": {
          "base_uri": "https://localhost:8080/"
        },
        "outputId": "b14f24a1-96c5-45e7-9d69-f0d84b106143"
      },
      "source": [
        "# Implement ANY uninformed search strategy for the spread of coronavirus from the starting city of 'Three Rivers'\n",
        "# BFS search algorithm as explained in lecture notes, modified to traverse entire graph\n",
        "def BreadthFirstSearch(graph, start):\n",
        "  frontier = []\n",
        "  explored = []\n",
        "  distanceTraveled = 0\n",
        "  #dict of all cities. Key = city name, Value = node instance\n",
        "  cities = map.all_nodes\n",
        "  frontier.append(cities[start])\n",
        "  #loop while frontier is not empty\n",
        "  while frontier:\n",
        "      node = frontier.pop(0)\n",
        "      explored.append(node)\n",
        "      #iterate through city names and distances of current node's neighbors\n",
        "      for city, distance in node.all_neighbors.items():\n",
        "          #if we haven't explored that city and haven't enqueued it, add to to frontier and add its distance to total travel\n",
        "          if cities[city] not in frontier and cities[city] not in explored:\n",
        "            frontier.append(cities[city])\n",
        "            distanceTraveled += distance\n",
        "  return explored, distanceTraveled\n",
        "\n",
        "explored, distanceTraveled = BreadthFirstSearch(map, 'Three Rivers')\n",
        "\n",
        "print(\"Sequence of Cities:\")\n",
        "for city in explored:\n",
        "  print(city.name)\n",
        "print(\"Distance Traveled by spreading strategy:\",distanceTraveled,\"mi\")"
      ],
      "execution_count": 163,
      "outputs": [
        {
          "output_type": "stream",
          "name": "stdout",
          "text": [
            "Sequence of Cities:\n",
            "Three Rivers\n",
            "San Antonio\n",
            "Corpus Christi\n",
            "Alice\n",
            "Kenedy\n",
            "San Angelo\n",
            "New Braunfels\n",
            "Seguin\n",
            "Uvalde\n",
            "Victoria\n",
            "Laredo\n",
            "McAllen\n",
            "Midland\n",
            "Lubbock\n",
            "Abilene\n",
            "San Marcos\n",
            "Gonzalez\n",
            "Columbus\n",
            "Del Rio\n",
            "Brownsville\n",
            "Odessa\n",
            "Amarillo\n",
            "Austin\n",
            "Houston\n",
            "El Paso\n",
            "Dalhart\n",
            "Round Rock\n",
            "College Station\n",
            "Beaumont\n",
            "Galveston\n",
            "Sugar Land\n",
            "Temple\n",
            "Waco\n",
            "Jamaica Beach\n",
            "Palestine\n",
            "Fort Worth\n",
            "Dallas\n",
            "Wichita Falls\n",
            "Texarkana\n",
            "Distance Traveled by spreading strategy: 3354.31992298 mi\n"
          ]
        }
      ]
    },
    {
      "cell_type": "markdown",
      "metadata": {
        "id": "YCsUNyl3KWrb"
      },
      "source": [
        "#Vaccine Transportation - Informed Search Agent\n",
        "\n",
        "##(40 points)\n",
        "\n",
        "In this section, you will create an *informed search* agent that will be used to transport the vaccine. The city of **San Antonio** has more supply of vaccine than the demand. The goal is to create an **optimal strategy** to transport the vaccine and make it available at the highly affected city of **College Station**, where there is a shortage of vaccines.\n",
        "\n",
        "In the following code block, write code to implement an **optimal** informed search strategy. You are free to create more code blocks if needed. As the output, print \n",
        "\n",
        "*   The path / sequence of cities that will be visited in the optimal vaccine transportation strategy.\n",
        "*   The total distance travelled in the optimal vaccine transportation strategy.\n",
        "\n",
        "\n",
        "##Extra Credit (3 points)\n",
        "On the 2D graph and the Texas state map, overlay the selected path along with the cities visited."
      ]
    },
    {
      "cell_type": "code",
      "metadata": {
        "id": "oYcy29SdK3Xn",
        "colab": {
          "base_uri": "https://localhost:8080/"
        },
        "outputId": "2a980028-cf9d-48e1-bf44-95f617211025"
      },
      "source": [
        "# Implement an OPTIMAL informed search strategy for distributing the vaccine from 'San Antonio' to 'College Station'\n",
        "\n",
        "def calculateHaversineDistance(cityData, goalCity):\n",
        "  heuristic = {}\n",
        "  #find and save the goalCoordinate\n",
        "  with open(citiesPath) as csvfile:\n",
        "    cityData = csv.reader(csvfile, delimiter=',')\n",
        "    for city in cityData:\n",
        "      #print(city[0] + \" vs \" + goalCity)\n",
        "      if city[0] == goalCity:\n",
        "        goalCoordinate = (float(city[1]), float(city[2]))\n",
        "        break\n",
        "\n",
        "  #calculate the haversine distance between goal and every city\n",
        "  with open(citiesPath) as csvfile:\n",
        "    cityData = csv.reader(csvfile, delimiter=',')\n",
        "    for city in cityData:\n",
        "      heuristic[city[0]] = haversine((float(city[1]), float(city[2])), goalCoordinate, Unit.MILES)\n",
        "  #print(heuristic)\n",
        "  return heuristic\n",
        "\n",
        "\n",
        "def a_star(map, heuristic, start, goal):\n",
        "  frontier = PriorityQueue()\n",
        "  expanded = []\n",
        "  distanceTraveled = 0\n",
        "  cities = map.all_nodes\n",
        "  frontier.put((0+heuristic[start], cities[start],[start],0))\n",
        "\n",
        "  #while frontier is not empty\n",
        "  while frontier.qsize() != 0:\n",
        "    #expand node\n",
        "    # node is = ( f(n), node object, path (city names list), g(n) (cost till now) )\n",
        "    node = frontier.get()\n",
        "    expanded.append(node)\n",
        "\n",
        "    #if found goal return path and distance\n",
        "    if node[1].name == goal:\n",
        "      return node[2], node[3]\n",
        "    \n",
        "    #for every neighbor connected to current node\n",
        "    for neighbor in node[1].all_neighbors.items():\n",
        "      #if neighbor not expanded and not in frontier\n",
        "      #print(type(node[2]))\n",
        "      cityObject = cities[neighbor[0]] \n",
        "      edgeWeight = neighbor[1]\n",
        "      if (cities[neighbor[0]] not in expanded  and  cities[neighbor[0]] not in frontier.queue):\n",
        "        # enqueue          priority = h(n) + cost up to now + edgeWeight aka step cost, neighbor node object, path to this node + this node name, cost up to this node\n",
        "        temp = node[2][:]\n",
        "        temp.append(neighbor[0])\n",
        "        frontier.put( (heuristic[cityObject.name] + node[3] + edgeWeight, cities[neighbor[0]], temp, node[3] + edgeWeight) )\n",
        "        temp = node[2][:]\n",
        "  return \"not found\"\n",
        "\n",
        "\n",
        "heuristic = calculateHaversineDistance(cityData, 'College Station')\n",
        "#for key, value in heuristic.items():\n",
        "#print(key, value)\n",
        "\n",
        "\n",
        "path, distanceTraveled = a_star(map, heuristic, 'San Antonio', 'College Station')\n",
        "print(\"Optimal path taken wit A*:\")\n",
        "for city in path:\n",
        "  print(city)\n",
        "print(\"---------\")\n",
        "print(\"Distance traveled:\", distanceTraveled,\"mi\")"
      ],
      "execution_count": 165,
      "outputs": [
        {
          "output_type": "stream",
          "name": "stdout",
          "text": [
            "Optimal path taken wit A*:\n",
            "San Antonio\n",
            "New Braunfels\n",
            "San Marcos\n",
            "Austin\n",
            "College Station\n",
            "---------\n",
            "Distance traveled: 186.77450141 mi\n"
          ]
        }
      ]
    },
    {
      "cell_type": "markdown",
      "metadata": {
        "id": "YJSFgNBQrhQU"
      },
      "source": [
        "#Submission Instructions\n",
        "\n",
        "1.   Complete all tasks above - **File MUST contain the output for ALL cells**\n",
        "2.   Export this notebook as .ipynb\n",
        "      (File > Download as ipynb)\n",
        "3.   Upload the .ipynb file on Blackboard"
      ]
    },
    {
      "cell_type": "markdown",
      "metadata": {
        "id": "0lGvLE9H6ptL"
      },
      "source": [
        "##Rubric\n",
        "\n",
        "*   (45 points) Reading Data files & Creating a 2D Graph\n",
        "*   (40 points) Virus Spread - Uninformed Search Agent\n",
        "*   (40 points) Vaccine Transportation - Informed Search Agent\n",
        "*   (10 points) Extra Credit - on the Texas map image, overlay the 2D graph and the paths selected by the search agents\n",
        "\n",
        "\n",
        "\n"
      ]
    }
  ]
}